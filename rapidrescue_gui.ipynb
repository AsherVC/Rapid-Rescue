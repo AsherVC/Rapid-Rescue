{
 "cells": [
  {
   "cell_type": "code",
   "execution_count": 2,
   "id": "5c06ef36",
   "metadata": {},
   "outputs": [
    {
     "name": "stdout",
     "output_type": "stream",
     "text": [
      "^C\n",
      "Note: you may need to restart the kernel to use updated packages.\n"
     ]
    }
   ],
   "source": [
    "pip install torch"
   ]
  },
  {
   "cell_type": "code",
   "execution_count": null,
   "id": "89f45b1c",
   "metadata": {},
   "outputs": [],
   "source": []
  },
  {
   "cell_type": "code",
   "execution_count": 4,
   "id": "8e3f071c",
   "metadata": {
    "scrolled": true
   },
   "outputs": [
    {
     "data": {
      "application/vnd.jupyter.widget-view+json": {
       "model_id": "2dc926494f094509963ea613fcc02687",
       "version_major": 2,
       "version_minor": 0
      },
      "text/plain": [
       "Text(value='', description='Username:', placeholder='Enter your username')"
      ]
     },
     "metadata": {},
     "output_type": "display_data"
    },
    {
     "data": {
      "application/vnd.jupyter.widget-view+json": {
       "model_id": "855d57e55f6c4be59a19de1639c661b5",
       "version_major": 2,
       "version_minor": 0
      },
      "text/plain": [
       "Password(description='Password:', placeholder='Enter your password')"
      ]
     },
     "metadata": {},
     "output_type": "display_data"
    },
    {
     "data": {
      "application/vnd.jupyter.widget-view+json": {
       "model_id": "34856c24784243a08dcb5c19ead72bed",
       "version_major": 2,
       "version_minor": 0
      },
      "text/plain": [
       "Button(button_style='success', description='Login', style=ButtonStyle())"
      ]
     },
     "metadata": {},
     "output_type": "display_data"
    },
    {
     "data": {
      "application/vnd.jupyter.widget-view+json": {
       "model_id": "146656a921ca4fd8955cdaf04990fc86",
       "version_major": 2,
       "version_minor": 0
      },
      "text/plain": [
       "Output()"
      ]
     },
     "metadata": {},
     "output_type": "display_data"
    }
   ],
   "source": [
    "import ipywidgets as widgets\n",
    "from IPython.display import display, clear_output\n",
    "import matplotlib.pyplot as plt\n",
    "import pandas as pd\n",
    "import seaborn as sns\n",
    "import tensorflow as tf\n",
    "import numpy as np\n",
    "from tensorflow.keras.models import load_model\n",
    "\n",
    "model=load_model('disas.h5',compile=False)\n",
    "model.compile(optimizer='adam', loss='sparse_categorical_crossentropy', metrics=['accuracy'])\n",
    "\n",
    "df=pd.read_csv(\"cleaned_data.csv\")\n",
    "df.columns\n",
    "deets=[]\n",
    "\n",
    "\n",
    "# Create text widgets for username and password\n",
    "username_widget = widgets.Text(\n",
    "    placeholder='Enter your username',\n",
    "    description='Username:',\n",
    ")\n",
    "password_widget = widgets.Password(\n",
    "    placeholder='Enter your password',\n",
    "    description='Password:',\n",
    ")\n",
    "\n",
    "submit_button = widgets.Button(\n",
    "    description='Submit',\n",
    "    button_style='success',\n",
    ")\n",
    "submit_button.layout.visibility = 'hidden'  # Initially hide the submit button\n",
    "\n",
    "\n",
    "# Create a submit button and additional buttons\n",
    "login_button = widgets.Button(\n",
    "    description='Login',\n",
    "    button_style='success',\n",
    ")\n",
    "checkbox_descriptions = ['Rain', 'Home Destroyed', 'Mudslide', 'Landslide', '1000-10,000', '10,1000-1,00,000', '1,00,000-10,00,000', '10,00,000-1,00,00,000']\n",
    "#custom_layout = widgets.Layout(width='300px')\n",
    "button1 = widgets.Button(description='Data')\n",
    "button2 = widgets.Button(description='Predict')\n",
    "button3 = widgets.Button(description='Research')\n",
    "submit_button = widgets.Button(\n",
    "    description='Submit',\n",
    "    button_style='success',\n",
    ")\n",
    "# Create a Dropdown widget for place selection\n",
    "places= ['Idukki', 'Thodupuzha', 'Munnar']  # Replace with actual place names\n",
    "places_dropdown = widgets.Dropdown(\n",
    "    options=places,\n",
    "    description='Select Place:',\n",
    "    value=None,\n",
    ")\n",
    "\n",
    "deets_textbox = widgets.Textarea(\n",
    "    description='Deets:',\n",
    "    value='',  # Initialize with an empty string\n",
    "    disabled=True,  # Make it read-only\n",
    "    layout=widgets.Layout(width='100%'),  # Set the width to 100%\n",
    ")\n",
    "\n",
    "# Create a \"Back\" button\n",
    "back_button = widgets.Button(\n",
    "    description='Back to Menu',\n",
    "    button_style='info',\n",
    ")\n",
    "\n",
    "disaster=['Landslide','WildFire','Pandemic','Earthquake','Flood']\n",
    "disaster_data=widgets.Dropdown(options=disaster,description='Select Disaster:',value=None)\n",
    "disaster_data.style.description_width ='100px'\n",
    "#disaster_data.layout.margin='10px 0'\n",
    "\n",
    "disaster=['Landslide','WildFire','Pandemic','Earthquake','Flood']\n",
    "disaster_names=widgets.Dropdown(options=disaster,description='Select Disaster:',value=None)\n",
    "disaster_names.style.description_width ='100px'\n",
    "\n",
    "label1 = widgets.Label()\n",
    "label2 = widgets.Label()\n",
    "label3 = widgets.Label()\n",
    "label4 = widgets.Label()\n",
    "label5 = widgets.Label()\n",
    "label6 = widgets.Label()\n",
    "label7 = widgets.Label()\n",
    "textbox1 = widgets.IntText(description = 'Location Accuracy:',value = None)\n",
    "textbox1.style.description_width ='150px'\n",
    "#textbox1.layout.display = 'none'\n",
    "# Create an output widget to display login status and additional buttons\n",
    "output = widgets.Output()\n",
    "\n",
    "# Function to handle login button click event\n",
    "def handle_login(sender):\n",
    "    with output:\n",
    "        clear_output()  # Clear previous output\n",
    "        username = username_widget.value\n",
    "        password = password_widget.value\n",
    "\n",
    "        # Replace this with your actual authentication logic\n",
    "        if username == 'admin' and password == 'admin':\n",
    "            print('Login successful!')\n",
    "            display(button1, button2, button3)  # Display additional buttons\n",
    "        else:\n",
    "            print('Login failed. Please check your credentials.')\n",
    "\n",
    "# Function to handle Data button click event\n",
    "def handle_data_button1(sender):\n",
    "    with output:\n",
    "        clear_output()  # Clear previous output\n",
    "        display(places_dropdown, label1, label2, label3, label4, label5,label6,label7, back_button)  # Display the places dropdown and \"Back\" button\n",
    "\n",
    "def handle_data_button2(sender):\n",
    "    with output:\n",
    "        clear_output()\n",
    "       # disaster_names.layout.display = 'block'\n",
    "        display(disaster_names,back_button)\n",
    "        \n",
    "def handle_data_button3(sender):\n",
    "    with output:\n",
    "        clear_output()\n",
    "        display(disaster_data,back_button)\n",
    "\n",
    "def handle_submit_button(sender):\n",
    "    update_deets_textbox()\n",
    "\n",
    "# Function to handle \"Back\" button click event\n",
    "def handle_back_button(sender):\n",
    "    with output:\n",
    "        clear_output()  # Clear previous output\n",
    "        display(button1, button2, button3)  # Return to the menu with three buttons       \n",
    "#//////////////////////////////////////////////////////    \n",
    "def handle_dropdown_change1(change):\n",
    "    selected_place = change.new\n",
    "    update_labels(selected_place) \n",
    "\n",
    "def update_labels(selected_place):\n",
    "    if selected_place == 'Idukki':\n",
    "        label_values = [\"213 in A\",\"59 in B\",\"13 in C\", 483, 7907914493, 9495044991, \"Red\"]   # Replace with values for Idukki\n",
    "    elif selected_place == 'Thodupuzha':\n",
    "        label_values = [\"107 in D\",\"174 in E\",\"116 in F\", 633, 7907914495, 9495044995, \"Yellow\"] # Replace with values for Thodupuzha\n",
    "    elif selected_place == 'Munnar':\n",
    "        label_values = [\"134 in G\",\"52 in H\",\"78 in I\", 374, 7907914467, 94950449956, \"Red\"] # Replace with values for Munnar\n",
    "    \n",
    "    label_values = [str(value) for value in label_values]\n",
    "    label1.value = f'Bed no: {label_values[0]}'\n",
    "    label2.value = f'Bed no: {label_values[1]}'\n",
    "    label3.value = f'Bed no: {label_values[2]}'\n",
    "    label4.value = f'Refugee buiding: {label_values[3]}'\n",
    "    label5.value = f'Volunteer PhoneNo: {label_values[4]}'\n",
    "    label6.value = f'Authority PhoneNo {label_values[5]}'\n",
    "    label7.value = f'Alert:{label_values[6]}'\n",
    "#/////////////////////////////////////////////////////////\n",
    "def handle_checkbox_change(change, checkbox_index):\n",
    "    global deets  # Declare deets as a global variable\n",
    "    deets[checkbox_index] = 1 if change.new else 0\n",
    "    \n",
    "def handle_dropdown_change2(change):\n",
    "    disaster_names = change.new\n",
    "    check_predict(disaster_names)\n",
    "\n",
    "def check_predict(disaster_names):\n",
    "    global deets\n",
    "    if disaster_names =='Landslide':\n",
    "        display(textbox1)\n",
    "        deets.extend([0] * (len(checkbox_descriptions)))\n",
    "        display_checkbox_options()\n",
    "        display(submit_button)\n",
    "\n",
    "def display_checkbox_options():\n",
    "    checkboxes = [widgets.Checkbox(description=desc) for desc in checkbox_descriptions]\n",
    "    checkboxes_container = widgets.VBox(checkboxes)\n",
    "    display(checkboxes_container)  \n",
    "    for i, checkbox in enumerate(checkboxes):\n",
    "        checkbox.observe(lambda change, checkbox_index=i: handle_checkbox_change(change, checkbox_index), names='value')\n",
    "#\n",
    "#def update_deets_textbox():\n",
    "#    deets_textbox.value = \"\\n\".join(map(str, deets))\n",
    "\n",
    "def handle_submit_button(sender):\n",
    "    with output:\n",
    "        deets.insert(-1,textbox1.value)\n",
    "        a=deets.pop(-2)\n",
    "        deets.insert(0,a)\n",
    "        for i in deets:\n",
    "            if i is True:\n",
    "                i=1\n",
    "            elif i is False:\n",
    "                i=0\n",
    "            else:\n",
    "                i=i\n",
    "        #deets=deets.insert(0, item)\n",
    "        X_new=np.array([deets])\n",
    "        predictions = model.predict(X_new)\n",
    "        predictions[[0]]*=10\n",
    "        result = (np.ceil(predictions)).astype(int)\n",
    "        print(\"Fatality:\",result[0,0])\n",
    "        print(\"Injury:\",result[0,1])\n",
    "#///////////////////////////////////////////////////////\n",
    "def handle_dropdown_change3(change):\n",
    "    disaster_data = change.new\n",
    "    plot_data(disaster_data)\n",
    "\n",
    "def plot_data(disaster_data):\n",
    "    if disaster_data =='Landslide':\n",
    "\n",
    "        cmap = sns.diverging_palette(220, 10, as_cmap=True)\n",
    "        sns.heatmap(df[['rain', 'downpour', 'other', 'small_scale', 'medium_scale', 'large_scale']].corr(), vmax=.3, center=0, cmap=cmap, square=True, linewidths=.5, cbar_kws={\"shrink\": .5})\n",
    "\n",
    "        \n",
    "        # Add a legend (if multiple data sets are plotted)\n",
    "        plt.legend()\n",
    "\n",
    "        # Show the plot\n",
    "        plt.grid(True)  # Optional: Add grid lines\n",
    "        plt.show()\n",
    "\n",
    "\n",
    "#/////////////////////////////////////////////////////////////    \n",
    "    \n",
    "# Attach the login, data button, and back button functions to their respective click events\n",
    "login_button.on_click(handle_login)\n",
    "button1.on_click(handle_data_button1)\n",
    "button2.on_click(handle_data_button2)\n",
    "button3.on_click(handle_data_button3)\n",
    "back_button.on_click(handle_back_button)\n",
    "places_dropdown.observe(handle_dropdown_change1, names='value')\n",
    "disaster_names.observe(handle_dropdown_change2, names='value')\n",
    "disaster_data.observe(handle_dropdown_change3, names='value')\n",
    "submit_button.on_click(handle_submit_button)\n",
    "#button_textbox_container = widgets.VBox([submit_button, deets_textbox])\n",
    "# Display the login page\n",
    "display(username_widget, password_widget, login_button, output)\n"
   ]
  },
  {
   "cell_type": "code",
   "execution_count": null,
   "id": "3482e93f",
   "metadata": {},
   "outputs": [],
   "source": [
    "\n",
    "\n",
    "    # Create a bar graph\n",
    "    plt.figure(figsize=(10, 6))\n",
    "    labels = ['Hospital Beds', 'Refugee Buildings', 'Volunteer Phone', 'Authority Phone', 'Alert']\n",
    "    values = label_values[:5]  # Take the first 5 values from label_values\n",
    "    plt.bar(labels, values)\n",
    "    plt.xlabel('Categories')\n",
    "    plt.ylabel('Values')\n",
    "    plt.title(f'Data for {selected_place}')\n",
    "    plt.show()\n",
    "    \n",
    "            #x_factor=df['fatality_count']\n",
    "        ##y_factor=df['admin_division_population']\n",
    "        #plt.figure(figsize=(8, 6))  # Optional: Set the figure size\n",
    "       # plt.scatter(x_factor, y_factor, c='blue', label='Data Points')  # 'c' sets the color, and 'label' sets the legend label\n",
    "\n",
    "        # Add labels and a title\n",
    "        #plt.xlabel('Rain')\n",
    "        #plt.ylabel('Mudslide')\n",
    "        #plt.title('Scatter Plot with Two Factors')\n",
    "        "
   ]
  },
  {
   "cell_type": "code",
   "execution_count": 1,
   "id": "15a4c5e1",
   "metadata": {},
   "outputs": [
    {
     "data": {
      "text/plain": [
       "Index(['event_description', 'location_description', 'location_accuracy',\n",
       "       'landslide_trigger', 'landslide_size', 'landslide_setting',\n",
       "       'landslide_category', 'fatality_count', 'injury_count', 'storm_name',\n",
       "       'photo_link', 'notes', 'event_import_source', 'event_import_id',\n",
       "       'country_name', 'country_code', 'admin_division_population', 'rain',\n",
       "       'earthquake', 'downpour', 'snow', 'other', 'small_scale',\n",
       "       'medium_scale', 'large_scale', 'home_destroyed', 'mudslide',\n",
       "       'landslide'],\n",
       "      dtype='object')"
      ]
     },
     "execution_count": 1,
     "metadata": {},
     "output_type": "execute_result"
    }
   ],
   "source": [
    "import pandas as pd\n",
    "import seaborn as sns\n",
    "df=pd.read_csv(\"cleaned_data.csv\")\n",
    "df.columns"
   ]
  },
  {
   "cell_type": "code",
   "execution_count": null,
   "id": "644016ef",
   "metadata": {},
   "outputs": [],
   "source": [
    "#location accuracy,rain,homedestroyed,mudslide,landslide,1-10k,10k-100k,100k-1m,1m-10m"
   ]
  },
  {
   "cell_type": "code",
   "execution_count": 86,
   "id": "01c7966b",
   "metadata": {},
   "outputs": [
    {
     "data": {
      "text/plain": [
       "[True, True, 0, True, True, 0, 0, 90, 0]"
      ]
     },
     "execution_count": 86,
     "metadata": {},
     "output_type": "execute_result"
    }
   ],
   "source": [
    "deets"
   ]
  },
  {
   "cell_type": "code",
   "execution_count": 87,
   "id": "eec0c10f",
   "metadata": {},
   "outputs": [
    {
     "data": {
      "text/plain": [
       "[90, 1, 1, 0, 1, 1, 0, 0, 0]"
      ]
     },
     "execution_count": 87,
     "metadata": {},
     "output_type": "execute_result"
    }
   ],
   "source": [
    "a=deets.pop(-2)\n",
    "deets.insert(0,a)\n",
    "for i in range(len(deets)):\n",
    "    if deets[i] is True:\n",
    "        deets[i]=1\n",
    "    elif deets[i] is False:\n",
    "        deets[i]=0\n",
    "deets"
   ]
  },
  {
   "cell_type": "code",
   "execution_count": 93,
   "id": "25456915",
   "metadata": {},
   "outputs": [
    {
     "data": {
      "text/plain": [
       "[True, True, True, 0, True, 0, 0, 0, 0]"
      ]
     },
     "execution_count": 93,
     "metadata": {},
     "output_type": "execute_result"
    }
   ],
   "source": [
    "deets"
   ]
  }
 ],
 "metadata": {
  "kernelspec": {
   "display_name": "Python 3 (ipykernel)",
   "language": "python",
   "name": "python3"
  },
  "language_info": {
   "codemirror_mode": {
    "name": "ipython",
    "version": 3
   },
   "file_extension": ".py",
   "mimetype": "text/x-python",
   "name": "python",
   "nbconvert_exporter": "python",
   "pygments_lexer": "ipython3",
   "version": "3.9.18"
  }
 },
 "nbformat": 4,
 "nbformat_minor": 5
}
